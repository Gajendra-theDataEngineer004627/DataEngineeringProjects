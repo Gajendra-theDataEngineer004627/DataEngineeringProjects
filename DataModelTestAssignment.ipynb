{
 "cells": [
  {
   "cell_type": "code",
   "execution_count": 2,
   "id": "dc8dfc48",
   "metadata": {},
   "outputs": [
    {
     "name": "stdout",
     "output_type": "stream",
     "text": [
      "Collecting psycopg2\n",
      "  Downloading psycopg2-2.9.6-cp311-cp311-win_amd64.whl (1.2 MB)\n",
      "                                              0.0/1.2 MB ? eta -:--:--\n",
      "                                              0.0/1.2 MB ? eta -:--:--\n",
      "                                              0.0/1.2 MB ? eta -:--:--\n",
      "     -                                        0.0/1.2 MB 325.1 kB/s eta 0:00:04\n",
      "     -                                        0.0/1.2 MB 279.3 kB/s eta 0:00:05\n",
      "     --                                       0.1/1.2 MB 297.7 kB/s eta 0:00:04\n",
      "     --                                       0.1/1.2 MB 353.1 kB/s eta 0:00:04\n",
      "     --                                       0.1/1.2 MB 353.1 kB/s eta 0:00:04\n",
      "     ---                                      0.1/1.2 MB 308.0 kB/s eta 0:00:04\n",
      "     ---                                      0.1/1.2 MB 344.8 kB/s eta 0:00:04\n",
      "     ----                                     0.1/1.2 MB 327.4 kB/s eta 0:00:04\n",
      "     ----                                     0.1/1.2 MB 340.5 kB/s eta 0:00:03\n",
      "     -----                                    0.2/1.2 MB 364.0 kB/s eta 0:00:03\n",
      "     -----                                    0.2/1.2 MB 349.3 kB/s eta 0:00:03\n",
      "     ------                                   0.2/1.2 MB 368.6 kB/s eta 0:00:03\n",
      "     -------                                  0.2/1.2 MB 355.7 kB/s eta 0:00:03\n",
      "     -------                                  0.2/1.2 MB 372.0 kB/s eta 0:00:03\n",
      "     --------                                 0.2/1.2 MB 386.1 kB/s eta 0:00:03\n",
      "     --------                                 0.3/1.2 MB 374.1 kB/s eta 0:00:03\n",
      "     ---------                                0.3/1.2 MB 387.0 kB/s eta 0:00:03\n",
      "     ---------                                0.3/1.2 MB 376.2 kB/s eta 0:00:03\n",
      "     ----------                               0.3/1.2 MB 387.7 kB/s eta 0:00:03\n",
      "     -----------                              0.3/1.2 MB 390.5 kB/s eta 0:00:03\n",
      "     -----------                              0.3/1.2 MB 388.2 kB/s eta 0:00:03\n",
      "     ------------                             0.4/1.2 MB 390.8 kB/s eta 0:00:03\n",
      "     ------------                             0.4/1.2 MB 388.7 kB/s eta 0:00:03\n",
      "     -------------                            0.4/1.2 MB 391.0 kB/s eta 0:00:02\n",
      "     -------------                            0.4/1.2 MB 391.0 kB/s eta 0:00:02\n",
      "     --------------                           0.4/1.2 MB 393.1 kB/s eta 0:00:02\n",
      "     --------------                           0.4/1.2 MB 385.3 kB/s eta 0:00:02\n",
      "     ---------------                          0.4/1.2 MB 393.1 kB/s eta 0:00:02\n",
      "     ---------------                          0.5/1.2 MB 385.9 kB/s eta 0:00:02\n",
      "     ----------------                         0.5/1.2 MB 387.9 kB/s eta 0:00:02\n",
      "     ----------------                         0.5/1.2 MB 394.8 kB/s eta 0:00:02\n",
      "     -----------------                        0.5/1.2 MB 399.4 kB/s eta 0:00:02\n",
      "     ------------------                       0.5/1.2 MB 397.7 kB/s eta 0:00:02\n",
      "     -------------------                      0.6/1.2 MB 394.7 kB/s eta 0:00:02\n",
      "     -------------------                      0.6/1.2 MB 400.3 kB/s eta 0:00:02\n",
      "     --------------------                     0.6/1.2 MB 401.7 kB/s eta 0:00:02\n",
      "     ---------------------                    0.6/1.2 MB 406.8 kB/s eta 0:00:02\n",
      "     ---------------------                    0.6/1.2 MB 406.8 kB/s eta 0:00:02\n",
      "     ---------------------                    0.6/1.2 MB 401.0 kB/s eta 0:00:02\n",
      "     ----------------------                   0.6/1.2 MB 402.3 kB/s eta 0:00:02\n",
      "     ----------------------                   0.7/1.2 MB 407.1 kB/s eta 0:00:02\n",
      "     -----------------------                  0.7/1.2 MB 406.4 kB/s eta 0:00:02\n",
      "     ------------------------                 0.7/1.2 MB 408.9 kB/s eta 0:00:02\n",
      "     -------------------------                0.7/1.2 MB 413.1 kB/s eta 0:00:02\n",
      "     --------------------------               0.8/1.2 MB 416.0 kB/s eta 0:00:01\n",
      "     --------------------------               0.8/1.2 MB 416.0 kB/s eta 0:00:01\n",
      "     ---------------------------              0.8/1.2 MB 422.0 kB/s eta 0:00:01\n",
      "     ---------------------------              0.8/1.2 MB 426.0 kB/s eta 0:00:01\n",
      "     ----------------------------             0.8/1.2 MB 426.2 kB/s eta 0:00:01\n",
      "     ----------------------------             0.8/1.2 MB 421.2 kB/s eta 0:00:01\n",
      "     ----------------------------             0.8/1.2 MB 421.2 kB/s eta 0:00:01\n",
      "     -----------------------------            0.9/1.2 MB 421.6 kB/s eta 0:00:01\n",
      "     -----------------------------            0.9/1.2 MB 421.6 kB/s eta 0:00:01\n",
      "     -----------------------------            0.9/1.2 MB 410.8 kB/s eta 0:00:01\n",
      "     ------------------------------           0.9/1.2 MB 408.3 kB/s eta 0:00:01\n",
      "     ------------------------------           0.9/1.2 MB 408.3 kB/s eta 0:00:01\n",
      "     -------------------------------          0.9/1.2 MB 403.2 kB/s eta 0:00:01\n",
      "     -------------------------------          0.9/1.2 MB 403.2 kB/s eta 0:00:01\n",
      "     -------------------------------          0.9/1.2 MB 394.0 kB/s eta 0:00:01\n",
      "     -------------------------------          0.9/1.2 MB 394.0 kB/s eta 0:00:01\n",
      "     --------------------------------         0.9/1.2 MB 392.4 kB/s eta 0:00:01\n",
      "     --------------------------------         0.9/1.2 MB 392.4 kB/s eta 0:00:01\n",
      "     --------------------------------         1.0/1.2 MB 384.1 kB/s eta 0:00:01\n",
      "     --------------------------------         1.0/1.2 MB 384.1 kB/s eta 0:00:01\n",
      "     ---------------------------------        1.0/1.2 MB 382.6 kB/s eta 0:00:01\n",
      "     ----------------------------------       1.0/1.2 MB 381.3 kB/s eta 0:00:01\n",
      "     ----------------------------------       1.0/1.2 MB 381.3 kB/s eta 0:00:01\n",
      "     ----------------------------------       1.0/1.2 MB 373.8 kB/s eta 0:00:01\n",
      "     ----------------------------------       1.0/1.2 MB 373.8 kB/s eta 0:00:01\n",
      "     -----------------------------------      1.0/1.2 MB 372.8 kB/s eta 0:00:01\n",
      "     -----------------------------------      1.0/1.2 MB 372.8 kB/s eta 0:00:01\n",
      "     -----------------------------------      1.0/1.2 MB 367.7 kB/s eta 0:00:01\n",
      "     -----------------------------------      1.0/1.2 MB 367.7 kB/s eta 0:00:01\n",
      "     ------------------------------------     1.1/1.2 MB 366.9 kB/s eta 0:00:01\n",
      "     ------------------------------------     1.1/1.2 MB 366.9 kB/s eta 0:00:01\n",
      "     -------------------------------------    1.1/1.2 MB 360.6 kB/s eta 0:00:01\n",
      "     -------------------------------------    1.1/1.2 MB 360.6 kB/s eta 0:00:01\n",
      "     -------------------------------------    1.1/1.2 MB 356.2 kB/s eta 0:00:01\n",
      "     -------------------------------------    1.1/1.2 MB 356.2 kB/s eta 0:00:01\n",
      "     --------------------------------------   1.1/1.2 MB 355.6 kB/s eta 0:00:01\n",
      "     --------------------------------------   1.1/1.2 MB 355.6 kB/s eta 0:00:01\n",
      "     --------------------------------------   1.1/1.2 MB 350.1 kB/s eta 0:00:01\n",
      "     --------------------------------------   1.1/1.2 MB 350.1 kB/s eta 0:00:01\n",
      "     ---------------------------------------  1.1/1.2 MB 349.7 kB/s eta 0:00:01\n",
      "     ---------------------------------------  1.2/1.2 MB 347.9 kB/s eta 0:00:01\n",
      "     ---------------------------------------- 1.2/1.2 MB 347.5 kB/s eta 0:00:00\n",
      "Installing collected packages: psycopg2\n",
      "Successfully installed psycopg2-2.9.6\n"
     ]
    },
    {
     "name": "stderr",
     "output_type": "stream",
     "text": [
      "\n",
      "[notice] A new release of pip is available: 23.1.2 -> 23.2\n",
      "[notice] To update, run: python.exe -m pip install --upgrade pip\n"
     ]
    }
   ],
   "source": [
    "# to create table with PostgreSQL\n",
    "!pip install psycopg2"
   ]
  },
  {
   "cell_type": "code",
   "execution_count": 3,
   "id": "e5f7ec96",
   "metadata": {},
   "outputs": [],
   "source": [
    "# imporint library\n",
    "import psycopg2"
   ]
  },
  {
   "cell_type": "code",
   "execution_count": 5,
   "id": "3db605cd",
   "metadata": {},
   "outputs": [],
   "source": [
    "# connecting with datatabse \n",
    "try:\n",
    "\tconn = psycopg2.connect(\"host=localhost dbname = postgres user = postgres password=root\")\n",
    "except psycopg2.Error as e:\n",
    "\tprint(\"Error: Could not make connection to the Postgres Database \")\n",
    "\tprint(e)"
   ]
  },
  {
   "cell_type": "code",
   "execution_count": 6,
   "id": "73fd2792",
   "metadata": {},
   "outputs": [],
   "source": [
    "# use the connection to get a cursur used to execute queries\n",
    "\n",
    "try:\n",
    "\tcur = conn.cursor()\n",
    "except psycopg2.Error as e:\n",
    "\tprint(\"Error : Could not get curser to the Database\")\n",
    "\tprint(e)"
   ]
  },
  {
   "cell_type": "code",
   "execution_count": 7,
   "id": "5b97a44f",
   "metadata": {},
   "outputs": [],
   "source": [
    "# Setting auto commit \n",
    "conn.set_session(autocommit=True)"
   ]
  },
  {
   "cell_type": "code",
   "execution_count": 8,
   "id": "8ebdac25",
   "metadata": {},
   "outputs": [],
   "source": [
    "# Now Create the Database and now We play with it\n",
    "try:\n",
    "\tcur.execute(\"create database TestDB\")\n",
    "except spycopg2.Error as e:\n",
    "\tprint(e)"
   ]
  },
  {
   "cell_type": "code",
   "execution_count": 9,
   "id": "c74e6a31",
   "metadata": {},
   "outputs": [],
   "source": [
    "# Now need to connect to the new created database need to close the existing connection \n",
    "# Need to reconnect to Udacity database and get a new cursor\n",
    "\n",
    "try:\n",
    "\tconn.close()\n",
    "except psycopg2.Error as e:\n",
    "\tprint(e)\n",
    "\n",
    "\n",
    "try:\n",
    "\tconn = conn = psycopg2.connect(\"host=localhost dbname = testdb user = postgres password=root\")\n",
    "except psycopg2.Error as e:\n",
    "\tprint(\"Error: Could not make connection to the Postgres Database \")\n",
    "\tprint(e)\n",
    "   \n",
    "\n",
    "try:\n",
    "    cur = conn.cursor()\n",
    "except psycopg2.Error as e:\n",
    "\tprint(\"Error : Could not get curser to the Database\")\n",
    "\tprint(e)\n",
    "\n",
    "conn.set_session(autocommit=True)\n"
   ]
  },
  {
   "cell_type": "code",
   "execution_count": null,
   "id": "2595ba94",
   "metadata": {},
   "outputs": [],
   "source": [
    "# Need to Create the Table Student \n",
    "student_ID\n",
    "Name\n",
    "Age\n",
    "Gender\n",
    "Subject\n",
    "Marks"
   ]
  },
  {
   "cell_type": "code",
   "execution_count": 11,
   "id": "5e3d7b17",
   "metadata": {},
   "outputs": [],
   "source": [
    "try:\n",
    "\tcur.execute(\"CREATE TABLE IF NOT EXISTS students (student_id int, name varchar, age int, gender varchar, subject varchar, marks int);\")\n",
    "except psycopg2.Error as e:\n",
    "\tprint(\"Error: Issue creating Table\")\n",
    "\tprint(e)"
   ]
  },
  {
   "cell_type": "code",
   "execution_count": 21,
   "id": "ee8841ef",
   "metadata": {
    "scrolled": false
   },
   "outputs": [],
   "source": [
    "try:\n",
    "    cur.execute(\"INSERT INTO students (student_id, name, age, gender, subject, marks) VALUES (%s, %s, %s, %s, %s, %s)\", (1, \"Raj\", 23, \"Male\", \"Python\", 85))\n",
    "except psycopg2.Error as e:\n",
    "    print(\"Error: Inserting Rows\")\n",
    "    print(e)\n"
   ]
  },
  {
   "cell_type": "code",
   "execution_count": 19,
   "id": "a4bcbfd0",
   "metadata": {},
   "outputs": [],
   "source": [
    "try:\n",
    "    cur.execute(\"INSERT INTO students (student_id, name, age, gender, subject, marks) VALUES (%s, %s, %s, %s, %s, %s)\", (2, \"Rani\", 21, \"Female\", \"C++\", 89))\n",
    "except psycopg2.Error as e:\n",
    "    print(\"Error: Inserting Rows\")\n",
    "    print(e)"
   ]
  },
  {
   "cell_type": "code",
   "execution_count": 22,
   "id": "6f68a0e7",
   "metadata": {},
   "outputs": [],
   "source": [
    "try:\n",
    "    cur.execute(\"INSERT INTO students (student_id, name, age, gender, subject, marks) VALUES (%s, %s, %s, %s, %s, %s)\", (3, \"Rajikant\", 29, \"Male\", \"Java\", 95))\n",
    "except psycopg2.Error as e:\n",
    "    print(\"Error: Inserting Rows\")\n",
    "    print(e)\n",
    "\t\n",
    "\t\n",
    "try:\n",
    "    cur.execute(\"INSERT INTO students (student_id, name, age, gender, subject, marks) VALUES (%s, %s, %s, %s, %s, %s)\", (4, \"Nachiket\", 24, \"Male\", \"C\", 75))\n",
    "except psycopg2.Error as e:\n",
    "    print(\"Error: Inserting Rows\")\n",
    "    print(e)"
   ]
  },
  {
   "cell_type": "code",
   "execution_count": 27,
   "id": "4285a141",
   "metadata": {},
   "outputs": [
    {
     "name": "stdout",
     "output_type": "stream",
     "text": [
      "(2, 'Rani', 21, 'Female', 'C++', 89)\n",
      "(1, 'Raj', 23, 'Male', 'Python', 85)\n",
      "(3, 'Rajikant', 29, 'Male', 'Java', 95)\n",
      "(4, 'Nachiket', 24, 'Male', 'C', 75)\n"
     ]
    }
   ],
   "source": [
    "# validating the data inserted in the table \n",
    "try:\n",
    "    cur.execute(\" SELECT * FROM students ; \")\n",
    "except psycopg2.Error as e:\n",
    "    print(\"Error: showing table\")\n",
    "    print(e)\n",
    "\n",
    "row = cur.fetchone()\n",
    "while row:\n",
    "\tprint(row)\n",
    "\trow = cur.fetchone()\n"
   ]
  },
  {
   "cell_type": "code",
   "execution_count": null,
   "id": "0f3d58dc",
   "metadata": {},
   "outputs": [],
   "source": [
    "cur.close()\n",
    "conn.close()"
   ]
  }
 ],
 "metadata": {
  "kernelspec": {
   "display_name": "Python 3 (ipykernel)",
   "language": "python",
   "name": "python3"
  },
  "language_info": {
   "codemirror_mode": {
    "name": "ipython",
    "version": 3
   },
   "file_extension": ".py",
   "mimetype": "text/x-python",
   "name": "python",
   "nbconvert_exporter": "python",
   "pygments_lexer": "ipython3",
   "version": "3.11.4"
  }
 },
 "nbformat": 4,
 "nbformat_minor": 5
}
